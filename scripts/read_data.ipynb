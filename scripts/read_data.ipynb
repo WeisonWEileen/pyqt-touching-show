{
 "cells": [
  {
   "cell_type": "code",
   "execution_count": 9,
   "metadata": {},
   "outputs": [
    {
     "name": "stdout",
     "output_type": "stream",
     "text": [
      "67.43\n"
     ]
    }
   ],
   "source": [
    "import numpy as np\n",
    "import time\n",
    "\n",
    "# 读取 npz 文件\n",
    "data = np.load('/home/weison/Desktop/pyqt-touching-show/data/data_scratch_2024_11_29_23_13_41_.npy')\n",
    "\n",
    "\n",
    "# ti = time.strftime(\"%Y_%m_%d//_%H_%M_%S_\", time.localtime())\n",
    "# print(ti)\n",
    "\n",
    "\n",
    "# 打印第一个数组\n",
    "print(np.max(data[4961]))"
   ]
  }
 ],
 "metadata": {
  "kernelspec": {
   "display_name": "pyqtgraph",
   "language": "python",
   "name": "python3"
  },
  "language_info": {
   "codemirror_mode": {
    "name": "ipython",
    "version": 3
   },
   "file_extension": ".py",
   "mimetype": "text/x-python",
   "name": "python",
   "nbconvert_exporter": "python",
   "pygments_lexer": "ipython3",
   "version": "3.11.5"
  }
 },
 "nbformat": 4,
 "nbformat_minor": 2
}
